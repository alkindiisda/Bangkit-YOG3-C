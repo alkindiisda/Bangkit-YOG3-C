{
  "nbformat": 4,
  "nbformat_minor": 0,
  "metadata": {
    "colab": {
      "name": "Models Evaluation.ipynb",
      "provenance": [],
      "authorship_tag": "ABX9TyNkPMciEAKNxIRMOQFzMpQu",
      "include_colab_link": true
    },
    "kernelspec": {
      "name": "python3",
      "display_name": "Python 3"
    },
    "accelerator": "GPU"
  },
  "cells": [
    {
      "cell_type": "markdown",
      "metadata": {
        "id": "view-in-github",
        "colab_type": "text"
      },
      "source": [
        "<a href=\"https://colab.research.google.com/github/alkindiisda/Bangkit-YOG3-C/blob/master/Models_Evaluation.ipynb\" target=\"_parent\"><img src=\"https://colab.research.google.com/assets/colab-badge.svg\" alt=\"Open In Colab\"/></a>"
      ]
    },
    {
      "cell_type": "code",
      "metadata": {
        "id": "IeGfAlZnJ6H0",
        "colab_type": "code",
        "colab": {}
      },
      "source": [
        "import sklearn\n",
        "import tensorflow as tf\n",
        "import numpy as np\n",
        "from sklearn import metrics\n",
        "from keras_preprocessing.image import ImageDataGenerator"
      ],
      "execution_count": 1,
      "outputs": []
    },
    {
      "cell_type": "code",
      "metadata": {
        "id": "qDRjT-7IKiTP",
        "colab_type": "code",
        "colab": {
          "base_uri": "https://localhost:8080/",
          "height": 35
        },
        "outputId": "f4b43f1f-80e0-402b-b8ef-7beb49e216d1"
      },
      "source": [
        "from google.colab import drive\n",
        "drive.mount('/gdrive')"
      ],
      "execution_count": 2,
      "outputs": [
        {
          "output_type": "stream",
          "text": [
            "Drive already mounted at /gdrive; to attempt to forcibly remount, call drive.mount(\"/gdrive\", force_remount=True).\n"
          ],
          "name": "stdout"
        }
      ]
    },
    {
      "cell_type": "code",
      "metadata": {
        "id": "jKhBMYeIKmcv",
        "colab_type": "code",
        "colab": {}
      },
      "source": [
        "import zipfile\n",
        "\n",
        "local_zip = '/gdrive/My Drive/140k-real-and-fake-faces.zip'\n",
        "zip_ref = zipfile.ZipFile(local_zip, 'r')\n",
        "zip_ref.extractall('/content')\n",
        "zip_ref.close()"
      ],
      "execution_count": 4,
      "outputs": []
    },
    {
      "cell_type": "code",
      "metadata": {
        "id": "85TQsQR_Kwy4",
        "colab_type": "code",
        "colab": {
          "base_uri": "https://localhost:8080/",
          "height": 35
        },
        "outputId": "ca26883a-00e8-41d4-92ae-3c3eeabed4fb"
      },
      "source": [
        "test_dir = '/content/real_vs_fake/real-vs-fake/test'\n",
        "\n",
        "image_datagen = ImageDataGenerator(rescale=1./255.)\n",
        "\n",
        "test_generator = image_datagen.flow_from_directory(\n",
        "    test_dir,\n",
        "    batch_size=64,\n",
        "    target_size=(150, 150),\n",
        "    class_mode='binary',\n",
        "    shuffle=False\n",
        ")"
      ],
      "execution_count": 21,
      "outputs": [
        {
          "output_type": "stream",
          "text": [
            "Found 20000 images belonging to 2 classes.\n"
          ],
          "name": "stdout"
        }
      ]
    },
    {
      "cell_type": "code",
      "metadata": {
        "id": "F8huoxthLTTk",
        "colab_type": "code",
        "colab": {}
      },
      "source": [
        "densenet_model = tf.keras.models.load_model('/gdrive/My Drive/final_project_models/densenet')\n",
        "cnn_model = tf.keras.models.load_model('/gdrive/My Drive/final_project_models/cnn')\n",
        "\n",
        "densenet_y_pred = densenet_model.predict_classes(test_generator)\n",
        "cnn_y_pred = cnn_model.predict_classes(test_generator)\n",
        "y_test = test_generator.classes"
      ],
      "execution_count": 22,
      "outputs": []
    },
    {
      "cell_type": "code",
      "metadata": {
        "id": "crDSfu-dW_O_",
        "colab_type": "code",
        "colab": {
          "base_uri": "https://localhost:8080/",
          "height": 384
        },
        "outputId": "4733115f-1f2f-462e-d90d-613bc48701a2"
      },
      "source": [
        "print('Densenet')\n",
        "print(metrics.classification_report(y_test, densenet_y_pred))\n",
        "print('CNN')\n",
        "print(metrics.classification_report(y_test, cnn_y_pred))"
      ],
      "execution_count": 23,
      "outputs": [
        {
          "output_type": "stream",
          "text": [
            "Densenet\n",
            "              precision    recall  f1-score   support\n",
            "\n",
            "           0       0.98      0.97      0.98     10000\n",
            "           1       0.98      0.98      0.98     10000\n",
            "\n",
            "    accuracy                           0.98     20000\n",
            "   macro avg       0.98      0.98      0.98     20000\n",
            "weighted avg       0.98      0.98      0.98     20000\n",
            "\n",
            "CNN\n",
            "              precision    recall  f1-score   support\n",
            "\n",
            "           0       0.96      0.92      0.94     10000\n",
            "           1       0.93      0.96      0.95     10000\n",
            "\n",
            "    accuracy                           0.94     20000\n",
            "   macro avg       0.94      0.94      0.94     20000\n",
            "weighted avg       0.94      0.94      0.94     20000\n",
            "\n"
          ],
          "name": "stdout"
        }
      ]
    },
    {
      "cell_type": "code",
      "metadata": {
        "id": "lR6BkYZRgfJf",
        "colab_type": "code",
        "colab": {}
      },
      "source": [
        ""
      ],
      "execution_count": null,
      "outputs": []
    }
  ]
}