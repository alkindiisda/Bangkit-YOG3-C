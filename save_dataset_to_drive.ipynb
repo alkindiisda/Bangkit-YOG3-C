{
  "nbformat": 4,
  "nbformat_minor": 0,
  "metadata": {
    "colab": {
      "name": "save_dataset_to_drive.ipynb",
      "provenance": [],
      "authorship_tag": "ABX9TyMHCbJ5zFDZOkC6WW2fXTrh",
      "include_colab_link": true
    },
    "kernelspec": {
      "name": "python3",
      "display_name": "Python 3"
    }
  },
  "cells": [
    {
      "cell_type": "markdown",
      "metadata": {
        "id": "view-in-github",
        "colab_type": "text"
      },
      "source": [
        "<a href=\"https://colab.research.google.com/github/alkindiisda/Bangkit-YOG3-C/blob/master/save_dataset_to_drive.ipynb\" target=\"_parent\"><img src=\"https://colab.research.google.com/assets/colab-badge.svg\" alt=\"Open In Colab\"/></a>"
      ]
    },
    {
      "cell_type": "markdown",
      "metadata": {
        "id": "W-k3qnG5d_5p",
        "colab_type": "text"
      },
      "source": [
        "Use this notebook to save datasets to your google drive"
      ]
    },
    {
      "cell_type": "markdown",
      "metadata": {
        "id": "IIqsBn6LcpXd",
        "colab_type": "text"
      },
      "source": [
        "# The Dataset\n",
        "We are using dataset from https://www.kaggle.com/xhlulu/140k-real-and-fake-faces .\n",
        "\n",
        "Before you start, you need to have a kaggle account.\n",
        "Then:\n",
        "- Go to your account, Scroll to API section and Click Expire API Token to remove previous tokens\n",
        "- Click on Create New API Token - It will download kaggle.json file on your machine."
      ]
    },
    {
      "cell_type": "code",
      "metadata": {
        "id": "lBG9nV1DccvZ",
        "colab_type": "code",
        "colab": {}
      },
      "source": [
        "# Mount Google Drive to Colab\n",
        "from google.colab import drive\n",
        "drive.mount('/gdrive')"
      ],
      "execution_count": 0,
      "outputs": []
    },
    {
      "cell_type": "code",
      "metadata": {
        "id": "FzHEEWticl2w",
        "colab_type": "code",
        "colab": {}
      },
      "source": [
        "# Install Kaggle API, visit https://github.com/Kaggle/kaggle-api for more info\n",
        "! pip install -q kaggle"
      ],
      "execution_count": 0,
      "outputs": []
    },
    {
      "cell_type": "code",
      "metadata": {
        "id": "l1aKU_7rcxc7",
        "colab_type": "code",
        "colab": {}
      },
      "source": [
        "# Upload your Kaggle API token to colab\n",
        "from google.colab import files\n",
        "files.upload()\n",
        "# Click [Browse...] and choose kaggle.json that you downloaded"
      ],
      "execution_count": 0,
      "outputs": []
    },
    {
      "cell_type": "code",
      "metadata": {
        "id": "vulR50Dlc234",
        "colab_type": "code",
        "colab": {}
      },
      "source": [
        "! mkdir ~/.kaggle\n",
        "! cp kaggle.json ~/.kaggle/"
      ],
      "execution_count": 0,
      "outputs": []
    },
    {
      "cell_type": "code",
      "metadata": {
        "id": "QHyK1tDJc5DK",
        "colab_type": "code",
        "colab": {}
      },
      "source": [
        "! chmod 600 ~/.kaggle/kaggle.json"
      ],
      "execution_count": 0,
      "outputs": []
    },
    {
      "cell_type": "code",
      "metadata": {
        "id": "8dbVt8rMc7J9",
        "colab_type": "code",
        "colab": {}
      },
      "source": [
        "# Use ! kaggle datasets list -s [keyword] to search dataset on kaggle\n",
        "# This will download zip file in https://www.kaggle.com/xhlulu/140k-real-and-fake-faces\n",
        "! kaggle datasets download -d xhlulu/140k-real-and-fake-faces -p '/gdrive/My Drive' \n",
        "# You can change the path"
      ],
      "execution_count": 0,
      "outputs": []
    },
    {
      "cell_type": "markdown",
      "metadata": {
        "id": "83wjyauwdHXr",
        "colab_type": "text"
      },
      "source": [
        "Densenet weights"
      ]
    },
    {
      "cell_type": "code",
      "metadata": {
        "id": "odl-07PFdFef",
        "colab_type": "code",
        "colab": {}
      },
      "source": [
        "! kaggle datasets download -d xhlulu/densenet-keras -p '/gdrive/My Drive/densenet'\n",
        "# You can change the path"
      ],
      "execution_count": 0,
      "outputs": []
    }
  ]
}